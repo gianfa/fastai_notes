{
  "nbformat": 4,
  "nbformat_minor": 0,
  "metadata": {
    "colab": {
      "name": "Fastai_snippet_and_tools.ipynb",
      "version": "0.3.2",
      "provenance": [],
      "collapsed_sections": []
    },
    "kernelspec": {
      "name": "python3",
      "display_name": "Python 3"
    },
    "accelerator": "GPU"
  },
  "cells": [
    {
      "metadata": {
        "id": "Z_72Xux3EXyq",
        "colab_type": "text"
      },
      "cell_type": "markdown",
      "source": [
        "#Useful snippets for fastAI on Colab\n",
        "Here it is a useful snippets collection, in order to make it easy to use fastAI on Colab"
      ]
    },
    {
      "metadata": {
        "id": "R72QTMvy2hHL",
        "colab_type": "text"
      },
      "cell_type": "markdown",
      "source": [
        "### RAM\n",
        "This is a useful snippet to know how much RAM is available for your work (\"Util\")\n",
        "\n"
      ]
    },
    {
      "metadata": {
        "id": "xXQNy7tdqUnH",
        "colab_type": "code",
        "outputId": "1e1486f8-ebc9-4be3-d42a-ca627a30fbfa",
        "colab": {
          "base_uri": "https://localhost:8080/",
          "height": 244
        }
      },
      "cell_type": "code",
      "source": [
        "# CONFIGURATION\n",
        "# source: https://github.com/corykendrick/fastai_in_colab/blob/master/Using_Google_Colab_for_Fastai.ipynb\n",
        "\n",
        "# memory footprint support libraries/code\n",
        "!ln -sf /opt/bin/nvidia-smi /usr/bin/nvidia-smi\n",
        "!pip install gputil\n",
        "!pip install psutil\n",
        "!pip install humanize\n",
        "import psutil\n",
        "import humanize\n",
        "import os\n",
        "import GPUtil as GPU\n",
        "GPUs = GPU.getGPUs()\n",
        "# XXX: only one GPU on Colab and isn’t guaranteed\n",
        "gpu = GPUs[0]\n",
        "def printm():\n",
        " process = psutil.Process(os.getpid())\n",
        " print(\"Gen RAM Free: \" + humanize.naturalsize( psutil.virtual_memory().available ), \" | Proc size: \" + humanize.naturalsize( process.memory_info().rss))\n",
        " print(\"GPU RAM Free: {0:.0f}MB | Used: {1:.0f}MB | Util {2:3.0f}% | Total {3:.0f}MB\".format(gpu.memoryFree, gpu.memoryUsed, gpu.memoryUtil*100, gpu.memoryTotal))\n",
        "printm()\n",
        "\n",
        "# other tips: https://github.com/fastai/course-v3/blob/7dfe63de54daf2210f5b23f237e70ee246be5d0c/docs/google_colab_tutorial.md"
      ],
      "execution_count": 0,
      "outputs": [
        {
          "output_type": "stream",
          "text": [
            "Collecting gputil\n",
            "  Downloading https://files.pythonhosted.org/packages/ed/0e/5c61eedde9f6c87713e89d794f01e378cfd9565847d4576fa627d758c554/GPUtil-1.4.0.tar.gz\n",
            "Building wheels for collected packages: gputil\n",
            "  Running setup.py bdist_wheel for gputil ... \u001b[?25l-\b \bdone\n",
            "\u001b[?25h  Stored in directory: /root/.cache/pip/wheels/3d/77/07/80562de4bb0786e5ea186911a2c831fdd0018bda69beab71fd\n",
            "Successfully built gputil\n",
            "Installing collected packages: gputil\n",
            "Successfully installed gputil-1.4.0\n",
            "Requirement already satisfied: psutil in /usr/local/lib/python3.6/dist-packages (5.4.8)\n",
            "Requirement already satisfied: humanize in /usr/local/lib/python3.6/dist-packages (0.5.1)\n",
            "Gen RAM Free: 12.9 GB  | Proc size: 141.4 MB\n",
            "GPU RAM Free: 11441MB | Used: 0MB | Util   0% | Total 11441MB\n"
          ],
          "name": "stdout"
        }
      ]
    },
    {
      "metadata": {
        "id": "wOXVKNcj5p1e",
        "colab_type": "text"
      },
      "cell_type": "markdown",
      "source": [
        "### CONFIGURATION\n"
      ]
    },
    {
      "metadata": {
        "id": "MqovbWFHgem1",
        "colab_type": "text"
      },
      "cell_type": "markdown",
      "source": [
        "#### fastai 1.0.41 library\n",
        "The one used in fastAI **v3**  course "
      ]
    },
    {
      "metadata": {
        "id": "sW5PyLEuf0va",
        "colab_type": "code",
        "colab": {}
      },
      "cell_type": "code",
      "source": [
        "# source: https://forums.fast.ai/t/importerror-cannot-import-name-as-tensor/25295/8\n",
        "\n",
        "from os import path\n",
        "from wheel.pep425tags import get_abbr_impl, get_impl_ver, get_abi_tag\n",
        "platform = '{}{}-{}'.format(get_abbr_impl(), get_impl_ver(), get_abi_tag())\n",
        "# installs pytorch\n",
        "accelerator = 'cu80' if path.exists('/opt/bin/nvidia-smi') else 'cpu'\n",
        "!pip install -q http://download.pytorch.org/whl/{accelerator}/torch-0.3.0.post4-{platform}-linux_x86_64.whl torchvision\n",
        "import torch\n",
        "# fixes and other installations\n",
        "!pip install image\n",
        "!pip uninstall fastai\n",
        "!pip install Pillow==4.1.1\n",
        "!pip install \"fastai==0.7.0\"\n",
        "!pip install torchtext==0.2.3\n",
        "!apt-get -qq install -y libsm6 libxext6 && pip install -q -U opencv-python\n",
        "import cv2\n",
        "# colab settings\n",
        "import matplotlib.pyplot as plt\n",
        "%matplotlib inline\n",
        "%reload_ext autoreload\n",
        "%autoreload 2\n",
        "%matplotlib inline"
      ],
      "execution_count": 0,
      "outputs": []
    },
    {
      "metadata": {
        "id": "iSEcLXAp5TzQ",
        "colab_type": "code",
        "outputId": "8a2ff35a-249d-4722-9c92-f572422f1b19",
        "colab": {
          "base_uri": "https://localhost:8080/",
          "height": 194
        }
      },
      "cell_type": "code",
      "source": [
        "!pip show pillow"
      ],
      "execution_count": 0,
      "outputs": [
        {
          "output_type": "stream",
          "text": [
            "Name: Pillow\n",
            "Version: 4.1.1\n",
            "Summary: Python Imaging Library (Fork)\n",
            "Home-page: https://python-pillow.org\n",
            "Author: Alex Clark (Fork Author)\n",
            "Author-email: aclark@aclark.net\n",
            "License: Standard PIL License\n",
            "Location: /usr/local/lib/python3.6/dist-packages\n",
            "Requires: olefile\n",
            "Required-by: tflearn, magenta, fastai\n"
          ],
          "name": "stdout"
        }
      ]
    },
    {
      "metadata": {
        "id": "PQsY1QxDgJlw",
        "colab_type": "text"
      },
      "cell_type": "markdown",
      "source": [
        "#### fastai 0.7.0 library\n",
        "The one used in fastAI **v2**  course "
      ]
    },
    {
      "metadata": {
        "id": "oGdce5HTg4MW",
        "colab_type": "code",
        "colab": {}
      },
      "cell_type": "code",
      "source": [
        "from os import path\n",
        "from wheel.pep425tags import get_abbr_impl, get_impl_ver, get_abi_tag\n",
        "platform = '{}{}-{}'.format(get_abbr_impl(), get_impl_ver(), get_abi_tag())\n",
        "# installs pytorch\n",
        "accelerator = 'cu80' if path.exists('/opt/bin/nvidia-smi') else 'cpu'\n",
        "!pip install -q https://download.pytorch.org/whl/cu80/torch-1.0.0-cp36-cp36m-linux_x86_64.whl\n",
        "!pip install torchvision  \n",
        "import torch\n",
        "# fixes and other installations\n",
        "!pip install image\n",
        "!pip uninstall fastai\n",
        "!pip install Pillow==4.1.1\n",
        "!pip install fastai\n",
        "!pip install torchtext\n",
        "!apt-get -qq install -y libsm6 libxext6 && pip install -q -U opencv-python\n",
        "import cv2\n",
        "import matplotlib.pyplot as plt"
      ],
      "execution_count": 0,
      "outputs": []
    },
    {
      "metadata": {
        "id": "71EImvEo6Htj",
        "colab_type": "text"
      },
      "cell_type": "markdown",
      "source": [
        "### FastAI imports"
      ]
    },
    {
      "metadata": {
        "id": "RsumoTNSqUnM",
        "colab_type": "code",
        "colab": {}
      },
      "cell_type": "code",
      "source": [
        "from fastai.imports import *\n",
        "from fastai.torch_imports import *\n",
        "from fastai.transforms import *\n",
        "from fastai.conv_learner import *\n",
        "from fastai.model import *\n",
        "from fastai.dataset import *\n",
        "from fastai.sgdr import *\n",
        "from fastai.plots import *\n"
      ],
      "execution_count": 0,
      "outputs": []
    },
    {
      "metadata": {
        "id": "rQAC9c06nHyP",
        "colab_type": "code",
        "outputId": "985f5225-bd3c-4342-a65e-bcfda3ed9d6c",
        "colab": {
          "base_uri": "https://localhost:8080/",
          "height": 34
        }
      },
      "cell_type": "code",
      "source": [
        "torch.cuda.is_available()"
      ],
      "execution_count": 0,
      "outputs": [
        {
          "output_type": "execute_result",
          "data": {
            "text/plain": [
              "True"
            ]
          },
          "metadata": {
            "tags": []
          },
          "execution_count": 32
        }
      ]
    },
    {
      "metadata": {
        "id": "ay6ugznKqUnQ",
        "colab_type": "code",
        "colab": {}
      },
      "cell_type": "code",
      "source": [
        "torch.cuda.set_device(0)"
      ],
      "execution_count": 0,
      "outputs": []
    },
    {
      "metadata": {
        "id": "-AxDPiJP6a69",
        "colab_type": "text"
      },
      "cell_type": "markdown",
      "source": [
        "### Working with files\n",
        "To me the best way is through the python os library, which has a twin in colab utilities, as _os."
      ]
    },
    {
      "metadata": {
        "id": "XGhxwYrq4taG",
        "colab_type": "code",
        "outputId": "1a8b6a0e-0eaf-462d-f2f3-f34690543d7d",
        "colab": {
          "base_uri": "https://localhost:8080/",
          "height": 54
        }
      },
      "cell_type": "code",
      "source": [
        "#Mount the drive from Google to save the model\n",
        "from google.colab import drive\n",
        "drive.mount('/gdrive')\n",
        "colab_root = '/../content'\n",
        "wpath = '/gdrive/My Drive/' + 'YOUR_FAVOURITE_WORK_PATH_IN_GOOGLE_DRIVE'"
      ],
      "execution_count": 0,
      "outputs": [
        {
          "output_type": "stream",
          "text": [
            "Drive already mounted at /gdrive; to attempt to forcibly remount, call drive.mount(\"/gdrive\", force_remount=True).\n"
          ],
          "name": "stdout"
        }
      ]
    },
    {
      "metadata": {
        "id": "ElLHBysBvVij",
        "colab_type": "text"
      },
      "cell_type": "markdown",
      "source": [
        "It can be very useful sometimes to have the fastai library path in your hands "
      ]
    },
    {
      "metadata": {
        "id": "BJBhvcDjvndE",
        "colab_type": "code",
        "colab": {}
      },
      "cell_type": "code",
      "source": [
        "fastaiFold = '../usr/local/lib/python3.6/dist-packages/fastai/"
      ],
      "execution_count": 0,
      "outputs": []
    },
    {
      "metadata": {
        "id": "cqL6gZz66584",
        "colab_type": "text"
      },
      "cell_type": "markdown",
      "source": [
        "#### Unzip tgz files\n",
        "Most of the time you can work directly inside your env root folder using '/' as _zpath_, but here I preferred to show you how to manage the situation when you want to work in different directorie. Nothing harder."
      ]
    },
    {
      "metadata": {
        "id": "nw8K1vHm65TU",
        "colab_type": "code",
        "colab": {}
      },
      "cell_type": "code",
      "source": [
        "# Untgz\n",
        "import shutil\n",
        "import tarfile\n",
        "t0 = time.time()\n",
        "zpath = wpath + 'PATH_TO/' + 'YOUR_FILE.gz'\n",
        "tar = tarfile.open(zpath, \"r:gz\")\n",
        "tar.extractall()\n",
        "tar.close()\n",
        "# end. Now a couple of checks\n",
        "print(\"elapsed: \" + str(time.time()-t0) + 's')\n",
        "if print(drive._os.exists(zpath[:-3])) print('the unzipped file exists!')"
      ],
      "execution_count": 0,
      "outputs": []
    },
    {
      "metadata": {
        "id": "-Z3SA99n-GU5",
        "colab_type": "text"
      },
      "cell_type": "markdown",
      "source": [
        "#### Moving a file\n",
        "You can use shutil, it's very easy!"
      ]
    },
    {
      "metadata": {
        "id": "Vtev9oTb-MoM",
        "colab_type": "code",
        "outputId": "8dbbea3f-ee9a-43df-da6b-aaaf9f996f04",
        "colab": {
          "base_uri": "https://localhost:8080/",
          "height": 203
        }
      },
      "cell_type": "code",
      "source": [
        "orig = 'PATH_TO/' + 'YOUR_FILE'\n",
        "dest = 'YOUR_DESTINATION_FOLDER/'+ 'YOUR_FILE'\n",
        "shutil.move(orig, dest)"
      ],
      "execution_count": 0,
      "outputs": [
        {
          "output_type": "error",
          "ename": "NameError",
          "evalue": "ignored",
          "traceback": [
            "\u001b[0;31m---------------------------------------------------------------------------\u001b[0m",
            "\u001b[0;31mNameError\u001b[0m                                 Traceback (most recent call last)",
            "\u001b[0;32m<ipython-input-3-8d6768b5a001>\u001b[0m in \u001b[0;36m<module>\u001b[0;34m()\u001b[0m\n\u001b[0;32m----> 1\u001b[0;31m \u001b[0morig\u001b[0m \u001b[0;34m=\u001b[0m \u001b[0mwpath\u001b[0m \u001b[0;34m+\u001b[0m \u001b[0;34m'PATH_TO/'\u001b[0m \u001b[0;34m+\u001b[0m \u001b[0;34m'YOUR_FILE'\u001b[0m\u001b[0;34m\u001b[0m\u001b[0;34m\u001b[0m\u001b[0m\n\u001b[0m\u001b[1;32m      2\u001b[0m \u001b[0mdest\u001b[0m \u001b[0;34m=\u001b[0m \u001b[0mwpath\u001b[0m \u001b[0;34m+\u001b[0m \u001b[0;34m'YOUR_DESTINATION_FOLDER/'\u001b[0m\u001b[0;34m+\u001b[0m \u001b[0;34m'YOUR_FILE'\u001b[0m\u001b[0;34m\u001b[0m\u001b[0;34m\u001b[0m\u001b[0m\n\u001b[1;32m      3\u001b[0m \u001b[0mshutil\u001b[0m\u001b[0;34m.\u001b[0m\u001b[0mmove\u001b[0m\u001b[0;34m(\u001b[0m\u001b[0morig\u001b[0m\u001b[0;34m,\u001b[0m \u001b[0mdest\u001b[0m\u001b[0;34m)\u001b[0m\u001b[0;34m\u001b[0m\u001b[0;34m\u001b[0m\u001b[0m\n",
            "\u001b[0;31mNameError\u001b[0m: name 'wpath' is not defined"
          ]
        }
      ]
    },
    {
      "metadata": {
        "id": "UIRTu2XbFCPY",
        "colab_type": "text"
      },
      "cell_type": "markdown",
      "source": [
        "## Download Kaggle Dataset"
      ]
    },
    {
      "metadata": {
        "id": "r2mo_ReiqUnS",
        "colab_type": "text"
      },
      "cell_type": "markdown",
      "source": [
        "Kaggle Dog Breed Identification. Get data from Data sections on Kaggle, Or you can get Kaggle data directly from Google Colab"
      ]
    },
    {
      "metadata": {
        "id": "y4bDlzufGeEO",
        "colab_type": "code",
        "outputId": "ebbc87a0-c917-4ef9-9b07-2bd0f5e78d89",
        "colab": {
          "base_uri": "https://localhost:8080/",
          "height": 34
        }
      },
      "cell_type": "code",
      "source": [
        "kaggle_json = '/gdrive/My Drive/' + 'PATH_TO_YOUR/' + kaggle.json'\n",
        "drive._os.path.exists(kaggle_json)"
      ],
      "execution_count": 0,
      "outputs": [
        {
          "output_type": "execute_result",
          "data": {
            "text/plain": [
              "True"
            ]
          },
          "metadata": {
            "tags": []
          },
          "execution_count": 35
        }
      ]
    },
    {
      "metadata": {
        "id": "Dst7BQjYHPpP",
        "colab_type": "code",
        "colab": {}
      },
      "cell_type": "code",
      "source": [
        "# Next, install the Kaggle API client.\n",
        "!pip install -q kaggle"
      ],
      "execution_count": 0,
      "outputs": []
    },
    {
      "metadata": {
        "id": "U2EtOkrFHVWB",
        "colab_type": "code",
        "colab": {}
      },
      "cell_type": "code",
      "source": [
        "# This permissions change avoids a warning on Kaggle tool startup.\n",
        "!chmod 600 ~/.kaggle/kaggle.json\n"
      ],
      "execution_count": 0,
      "outputs": []
    },
    {
      "metadata": {
        "id": "NJTfAYFgPIvz",
        "colab_type": "text"
      },
      "cell_type": "markdown",
      "source": [
        "To be authorized to download the dataset, since it's not open, you have to accept the competition rules, otherwise the server will reject you with a \n",
        "\n",
        "```bash\n",
        "403 Forbidden\n",
        "```\n",
        "Open the related page https://www.kaggle.com/c/dog-breed-identification/rules, go to the bottom and accept the rules (if you agree with them of course), then go ahed with this notebook."
      ]
    },
    {
      "metadata": {
        "id": "nuqNdCKsHap-",
        "colab_type": "code",
        "outputId": "f092f1f7-be5d-42ca-ac03-1f1ef41cd38e",
        "colab": {
          "base_uri": "https://localhost:8080/",
          "height": 107
        }
      },
      "cell_type": "code",
      "source": [
        "# List available datasets.\n",
        "# !rm -rf data\n",
        "\n",
        "!kaggle competitions download -c dog-breed-identification -p data/dogbreed"
      ],
      "execution_count": 0,
      "outputs": [
        {
          "output_type": "stream",
          "text": [
            "labels.csv.zip: Skipping, found more recently modified local copy (use --force to force download)\n",
            "sample_submission.csv.zip: Skipping, found more recently modified local copy (use --force to force download)\n",
            "test.zip: Skipping, found more recently modified local copy (use --force to force download)\n",
            "train.zip: Skipping, found more recently modified local copy (use --force to force download)\n"
          ],
          "name": "stdout"
        }
      ]
    },
    {
      "metadata": {
        "id": "bhaPam3Bpfga",
        "colab_type": "code",
        "outputId": "84419131-4f01-4a23-b356-17f47aadbbc1",
        "colab": {
          "base_uri": "https://localhost:8080/",
          "height": 176
        }
      },
      "cell_type": "code",
      "source": [
        "# Rapid unzip\n",
        "folder = \"../content/data/dogbreed/\"\n",
        "t0 = time.time()\n",
        "import zipfile\n",
        "for fn in drive._os.listdir(folder):\n",
        "  if fn[-3:] != 'zip': continue\n",
        "  with zipfile.ZipFile( folder+fn, \"r\" ) as zip_ref:\n",
        "      zip_ref.extractall( folder )\n",
        "del fn\n",
        "print(\"elapsed: \" + str(time.time()-t0) + 's')\n",
        "drive._os.listdir(folder)"
      ],
      "execution_count": 0,
      "outputs": [
        {
          "output_type": "stream",
          "text": [
            "elapsed: 11.445006608963013s\n"
          ],
          "name": "stdout"
        },
        {
          "output_type": "execute_result",
          "data": {
            "text/plain": [
              "['labels.csv',\n",
              " 'labels.csv.zip',\n",
              " 'test.zip',\n",
              " 'train',\n",
              " 'sample_submission.csv.zip',\n",
              " 'test',\n",
              " 'train.zip',\n",
              " 'sample_submission.csv']"
            ]
          },
          "metadata": {
            "tags": []
          },
          "execution_count": 41
        }
      ]
    },
    {
      "metadata": {
        "id": "wh6A55Cv6t6H",
        "colab_type": "text"
      },
      "cell_type": "markdown",
      "source": [
        "### Downloading weights from fastai"
      ]
    },
    {
      "metadata": {
        "id": "YCSLu_GrOLwp",
        "colab_type": "text"
      },
      "cell_type": "markdown",
      "source": [
        "Download the weights"
      ]
    },
    {
      "metadata": {
        "id": "Csor583KIyYA",
        "colab_type": "code",
        "outputId": "300a3747-4347-4737-fb33-5578ef2f572e",
        "colab": {
          "base_uri": "https://localhost:8080/",
          "height": 264
        }
      },
      "cell_type": "code",
      "source": [
        "!wget  http://files.fast.ai/models/weights.tgz"
      ],
      "execution_count": 0,
      "outputs": [
        {
          "output_type": "stream",
          "text": [
            "weights.tgz         100%[===================>]   1.11G  15.5MB/s    in 75s     \n",
            "\n",
            "2019-01-21 19:28:10 (15.3 MB/s) - ‘weights.tgz’ saved [1195411318/1195411318]\n",
            "\n",
            "--2019-01-21 19:45:27--  http://files.fast.ai/models/weights.tgz\n",
            "Resolving files.fast.ai (files.fast.ai)... 67.205.15.147\n",
            "Connecting to files.fast.ai (files.fast.ai)|67.205.15.147|:80... connected.\n",
            "HTTP request sent, awaiting response... 200 OK\n",
            "Length: 1195411318 (1.1G) [text/plain]\n",
            "Saving to: ‘weights.tgz.1’\n",
            "\n",
            "weights.tgz.1        78%[==============>     ] 894.58M   370KB/s    eta 16m 23s"
          ],
          "name": "stdout"
        }
      ]
    },
    {
      "metadata": {
        "id": "qd_zwUR6Ip1o",
        "colab_type": "code",
        "outputId": "58017ff7-3bc8-488b-b01f-d6e5c865e93a",
        "colab": {
          "base_uri": "https://localhost:8080/",
          "height": 90
        }
      },
      "cell_type": "code",
      "source": [
        "# Untgz\n",
        "import shutil\n",
        "import tarfile\n",
        "t0 = time.time()\n",
        "zfolder = folder+'../../'\n",
        "tar = tarfile.open(zfolder+'weights.tgz', \"r:gz\")\n",
        "tar.extractall()\n",
        "tar.close()\n",
        "print(\"elapsed: \" + str(time.time()-t0) + 's')\n",
        "print(drive._os.listdir('weights'))\n",
        "fastaiFold = '../usr/local/lib/python3.6/dist-packages/fastai/'\n",
        "shutil.move('weights', fastaiFold+'weights')\n"
      ],
      "execution_count": 0,
      "outputs": [
        {
          "output_type": "stream",
          "text": [
            "elapsed: 13.41806960105896s\n",
            "['resnext_101_64x4d.pth', 'inceptionresnetv2-d579a627.pth', 'resnext_50_32x4d.pth', 'wrn_50_2f.pth', 'inceptionv4-97ef9c30.pth', 'resnext_101_32x4d.pth']\n"
          ],
          "name": "stdout"
        },
        {
          "output_type": "execute_result",
          "data": {
            "text/plain": [
              "'../usr/local/lib/python3.6/dist-packages/fastai/weights'"
            ]
          },
          "metadata": {
            "tags": []
          },
          "execution_count": 20
        }
      ]
    },
    {
      "metadata": {
        "id": "4Ct5zuYu62Jq",
        "colab_type": "text"
      },
      "cell_type": "markdown",
      "source": [
        "### Other"
      ]
    },
    {
      "metadata": {
        "id": "mrrmqx_DqUnT",
        "colab_type": "code",
        "colab": {}
      },
      "cell_type": "code",
      "source": [
        "PATH = \"data/dogbreed/\"\n",
        "sz = 224\n",
        "arch = resnext101_64\n",
        "bs = 58"
      ],
      "execution_count": 0,
      "outputs": []
    },
    {
      "metadata": {
        "id": "Hdw96u2oqUnW",
        "colab_type": "code",
        "outputId": "7786921e-b999-44ca-9360-8107b0470cb1",
        "colab": {
          "base_uri": "https://localhost:8080/",
          "height": 34
        }
      },
      "cell_type": "code",
      "source": [
        "label_csv = f'{PATH}labels.csv'\n",
        "n = len(list(open(label_csv))) - 1 # header is not counted (-1)\n",
        "val_idxs = get_cv_idxs(n) # random 20% data for validation set\n",
        "n"
      ],
      "execution_count": 0,
      "outputs": [
        {
          "output_type": "execute_result",
          "data": {
            "text/plain": [
              "10222"
            ]
          },
          "metadata": {
            "tags": []
          },
          "execution_count": 22
        }
      ]
    },
    {
      "metadata": {
        "id": "QMUOvLbGqUnf",
        "colab_type": "code",
        "outputId": "3ffb0a9a-70c3-4b35-d021-8b8956cc319d",
        "colab": {
          "base_uri": "https://localhost:8080/",
          "height": 34
        }
      },
      "cell_type": "code",
      "source": [
        "len(val_idxs)"
      ],
      "execution_count": 0,
      "outputs": [
        {
          "output_type": "execute_result",
          "data": {
            "text/plain": [
              "2044"
            ]
          },
          "metadata": {
            "tags": []
          },
          "execution_count": 23
        }
      ]
    },
    {
      "metadata": {
        "id": "G6XTLuD9qUnj",
        "colab_type": "code",
        "colab": {}
      },
      "cell_type": "code",
      "source": [
        "# If you haven't downloaded weights.tgz yet, download the file.\n",
        "#     http://forums.fast.ai/t/error-when-trying-to-use-resnext50/7555\n",
        "#     http://forums.fast.ai/t/lesson-2-in-class-discussion/7452/222\n",
        "#!wget -O fastai/weights.tgz http://files.fast.ai/models/weights.tgz\n",
        "\n",
        "#!tar xvfz fastai/weights.tgz -C fastai"
      ],
      "execution_count": 0,
      "outputs": []
    },
    {
      "metadata": {
        "id": "iEXWnIU--Xi4",
        "colab_type": "text"
      },
      "cell_type": "markdown",
      "source": [
        "### Managing trained models in Drive\n"
      ]
    },
    {
      "metadata": {
        "id": "WNQtWajgiFdD",
        "colab_type": "text"
      },
      "cell_type": "markdown",
      "source": [
        "####fastai 1.0.41 library"
      ]
    },
    {
      "metadata": {
        "id": "FAjNBwRc-hvb",
        "colab_type": "code",
        "colab": {}
      },
      "cell_type": "code",
      "source": [
        "model_name = 'MODELNAME'\n",
        "model_path = learn.save(model_name, return_path = True)\n",
        "print(savedmodelspath)\n",
        "model_perm_path = drive_root + 'YOUR/DESTINATION/PATH/IN/GOOGLE/DRIVE/' + model_name\n",
        "shutil.move(model_path, model_perm_path)"
      ],
      "execution_count": 0,
      "outputs": []
    },
    {
      "metadata": {
        "colab_type": "text",
        "id": "dyt1brpciHo-"
      },
      "cell_type": "markdown",
      "source": [
        "####fastai 0.7.0 library"
      ]
    },
    {
      "metadata": {
        "colab_type": "code",
        "id": "mBs3CtU2iHpF",
        "colab": {}
      },
      "cell_type": "code",
      "source": [
        "learn.save('MODELNAME')\n",
        "YOUR_MODEL_ORIGINAL_PLACE = learn.get_model_path('MODELNAME')\n",
        "YOUR_MODEL_DESTINATION_PLACE = 'SOMEWHERE/'\n",
        "shutil.move(YOUR_MODEL_ORIGINAL_PLACE, YOUR_MODEL_DESTINATION_PLACE)"
      ],
      "execution_count": 0,
      "outputs": []
    }
  ]
}
